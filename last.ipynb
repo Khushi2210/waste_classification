{
 "cells": [
  {
   "cell_type": "code",
   "execution_count": 1,
   "id": "84d804ae-4d27-4d90-942e-f648fd3e0fc1",
   "metadata": {},
   "outputs": [],
   "source": [
    "import torchvision\n",
    "import torch\n",
    "import torchvision.transforms as transforms\n",
    "import PIL.Image as Image"
   ]
  },
  {
   "cell_type": "code",
   "execution_count": 3,
   "id": "69ddeba5-5815-41a5-98cf-fb61b8627829",
   "metadata": {},
   "outputs": [],
   "source": [
    "classes=[\n",
    "    \"Organic\",\n",
    "    \"Recyclable\"\n",
    "]\n"
   ]
  },
  {
   "cell_type": "code",
   "execution_count": 5,
   "id": "f02b7aca-fdc5-414b-9d33-9547355523dd",
   "metadata": {},
   "outputs": [],
   "source": [
    "#classes = ['class1', 'class2', 'class3']  # Example list of classes\n"
   ]
  },
  {
   "cell_type": "code",
   "execution_count": 7,
   "id": "d68b052e-6092-4948-b0fc-38e5e017c8d2",
   "metadata": {},
   "outputs": [
    {
     "name": "stderr",
     "output_type": "stream",
     "text": [
      "C:\\Users\\khush\\AppData\\Local\\Temp\\ipykernel_7560\\2466584307.py:1: FutureWarning: You are using `torch.load` with `weights_only=False` (the current default value), which uses the default pickle module implicitly. It is possible to construct malicious pickle data which will execute arbitrary code during unpickling (See https://github.com/pytorch/pytorch/blob/main/SECURITY.md#untrusted-models for more details). In a future release, the default value for `weights_only` will be flipped to `True`. This limits the functions that could be executed during unpickling. Arbitrary objects will no longer be allowed to be loaded via this mode unless they are explicitly allowlisted by the user via `torch.serialization.add_safe_globals`. We recommend you start setting `weights_only=True` for any use case where you don't have full control of the loaded file. Please open an issue on GitHub for any issues related to this experimental feature.\n",
      "  model = torch.load('best_model (1).pth')\n"
     ]
    }
   ],
   "source": [
    "model = torch.load('best_model (1).pth')\n"
   ]
  },
  {
   "cell_type": "code",
   "execution_count": 9,
   "id": "e3728701-efc2-4c67-bc7d-11b5d5dc8fda",
   "metadata": {},
   "outputs": [],
   "source": [
    "mean = [0.6879, 0.6366, 0.5604]\n",
    "std = [0.2079, 0.2177, 0.2383]\n",
    "\n",
    "image_transforms = transforms.Compose([\n",
    "    transforms.Resize((224,224)),\n",
    "    transforms.ToTensor(),\n",
    "    transforms.Normalize(torch.Tensor(mean), torch.Tensor(std))\n",
    "])\n"
   ]
  },
  {
   "cell_type": "code",
   "execution_count": 11,
   "id": "68854dc7-0439-4857-a428-43612c7981f2",
   "metadata": {},
   "outputs": [],
   "source": [
    "def classify(model, image_transforms, image_path, classes):\n",
    "    model = model.eval()\n",
    "    image = Image.open(image_path)\n",
    "    image = image_transforms(image).float()\n",
    "    image = image.unsqueeze(0)\n",
    "\n",
    "    output = model(image)\n",
    "    _, predicted = torch.max(output.data, 1)\n",
    "\n",
    "    print(classes[predicted.item()])"
   ]
  },
  {
   "cell_type": "code",
   "execution_count": 16,
   "id": "a62fd024-a855-4a80-a1a2-249230a5a051",
   "metadata": {},
   "outputs": [
    {
     "name": "stdout",
     "output_type": "stream",
     "text": [
      "Recyclable\n"
     ]
    }
   ],
   "source": [
    "classify(model, image_transforms, \"C:\\\\Users\\\\khush\\\\Downloads\\\\plastic.jpg\", classes)\n"
   ]
  },
  {
   "cell_type": "code",
   "execution_count": null,
   "id": "510f96d2-701b-47e7-a638-8af14abe8801",
   "metadata": {},
   "outputs": [],
   "source": []
  },
  {
   "cell_type": "code",
   "execution_count": null,
   "id": "1fc4f8eb-42b4-4336-ab5c-30f9578635b9",
   "metadata": {},
   "outputs": [],
   "source": []
  }
 ],
 "metadata": {
  "kernelspec": {
   "display_name": "Python 3 (ipykernel)",
   "language": "python",
   "name": "python3"
  },
  "language_info": {
   "codemirror_mode": {
    "name": "ipython",
    "version": 3
   },
   "file_extension": ".py",
   "mimetype": "text/x-python",
   "name": "python",
   "nbconvert_exporter": "python",
   "pygments_lexer": "ipython3",
   "version": "3.12.3"
  }
 },
 "nbformat": 4,
 "nbformat_minor": 5
}
